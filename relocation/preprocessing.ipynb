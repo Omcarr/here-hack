{
 "cells": [
  {
   "cell_type": "code",
   "execution_count": 7,
   "id": "76c12878",
   "metadata": {},
   "outputs": [
    {
     "name": "stdout",
     "output_type": "stream",
     "text": [
      "Processed GeoJSON saved to OSM.geojson\n"
     ]
    }
   ],
   "source": [
    "import json\n",
    "import re\n",
    "\n",
    "# Function to parse 'other_tags' string\n",
    "def parse_other_tags(tags):\n",
    "    # Create a dictionary from the 'other_tags' string\n",
    "    tag_dict = {}\n",
    "    tag_pairs = re.findall(r'\"([^\"]+)\"=>\"(.*?)\"', tags)\n",
    "    for key, value in tag_pairs:\n",
    "        tag_dict[key] = value\n",
    "    return tag_dict\n",
    "\n",
    "# Function to load GeoJSON from a file\n",
    "def load_geojson(file_path):\n",
    "    with open(file_path, 'r') as f:\n",
    "        return json.load(f)\n",
    "\n",
    "# Function to save GeoJSON to a file\n",
    "def save_geojson(data, file_path):\n",
    "    with open(file_path, 'w') as f:\n",
    "        json.dump(data, f, indent=4)\n",
    "\n",
    "# Main function to filter house points and create new GeoJSON\n",
    "def extract_house_points(input_file, output_file):\n",
    "    # Load the GeoJSON data from the input file\n",
    "    geojson_data = load_geojson(input_file)\n",
    "\n",
    "    house_points = []\n",
    "    for feature in geojson_data['features']:\n",
    "        properties = feature['properties']\n",
    "        \n",
    "        # Check if the feature has 'other_tags' and contains both housenumber and street\n",
    "        if 'other_tags' in properties:\n",
    "            tags = properties['other_tags']\n",
    "            tag_dict = parse_other_tags(tags)\n",
    "            \n",
    "            if 'addr:housenumber' in tag_dict and 'addr:street' in tag_dict:\n",
    "                # Create a new feature for the house point\n",
    "                house_point = {\n",
    "                    \"type\": \"Feature\",\n",
    "                    \"properties\": {\n",
    "                        \"osm_id\": properties[\"osm_id\"],\n",
    "                        \"house_number\": tag_dict['addr:housenumber'],\n",
    "                        \"street_name\": tag_dict['addr:street']\n",
    "                    },\n",
    "                    \"geometry\": feature[\"geometry\"]\n",
    "                }\n",
    "                house_points.append(house_point)\n",
    "\n",
    "    # Create a new GeoJSON structure\n",
    "    house_geojson = {\n",
    "        \"type\": \"FeatureCollection\",\n",
    "        \"features\": house_points\n",
    "    }\n",
    "\n",
    "    # Save the resulting GeoJSON to the output file\n",
    "    save_geojson(house_geojson, output_file)\n",
    "\n",
    "    print(f\"Processed GeoJSON saved to {output_file}\")\n",
    "\n",
    "# Example usage\n",
    "input_file = 'points.geojson'  # Path to your input GeoJSON file\n",
    "output_file = 'OSM.geojson'  # Path where the output will be saved\n",
    "\n",
    "# Run the function to process the file\n",
    "extract_house_points(input_file, output_file)\n"
   ]
  }
 ],
 "metadata": {
  "kernelspec": {
   "display_name": ".venv",
   "language": "python",
   "name": "python3"
  },
  "language_info": {
   "codemirror_mode": {
    "name": "ipython",
    "version": 3
   },
   "file_extension": ".py",
   "mimetype": "text/x-python",
   "name": "python",
   "nbconvert_exporter": "python",
   "pygments_lexer": "ipython3",
   "version": "3.13.3"
  }
 },
 "nbformat": 4,
 "nbformat_minor": 5
}
