{
 "cells": [
  {
   "cell_type": "code",
   "execution_count": 18,
   "id": "bea3dc80",
   "metadata": {},
   "outputs": [
    {
     "name": "stdout",
     "output_type": "stream",
     "text": [
      "Filtered data updated and saved as 'filtered_data_updated.csv'.\n",
      "CSV file with the required format has been saved as 'final_output.csv'.\n"
     ]
    },
    {
     "name": "stderr",
     "output_type": "stream",
     "text": [
      "/var/folders/y1/4lqd5nbn40s5kll78htdr9480000gn/T/ipykernel_13590/2482729433.py:6: DtypeWarning: Columns (10) have mixed types. Specify dtype option on import or set low_memory=False.\n",
      "  data = pd.read_csv('poi_nearest_streets_99.csv')\n"
     ]
    }
   ],
   "source": [
    "import pandas as pd\n",
    "import random\n",
    "\n",
    "# Load your data\n",
    "# Assuming the dataset is in a CSV file, replace this with your actual file path\n",
    "data = pd.read_csv('poi_nearest_streets_99.csv')\n",
    "\n",
    "# Step 1: Filter the data where 'is_on_street' is False\n",
    "filtered_data = data[data['is_on_street'] == False]\n",
    "\n",
    "\n",
    "# Step 3: Take the first 400 points from the filtered data\n",
    "first_400_data = filtered_data.head(400)\n",
    "f2 = first_400_data\n",
    "\n",
    "f2.loc[:149, 'DISPLAY_LA'] = f2.loc[:149, 'ROUTING_LA']\n",
    "f2.loc[:149, 'DISPLAY_LO'] = f2.loc[:149, 'ROUTING_LO']\n",
    "\n",
    "# Step 3: Save the filtered data to another CSV file\n",
    "geometry_index = f2.columns.get_loc('geometry')\n",
    "f3 = f2.iloc[:, :geometry_index+1]\n",
    "f3.to_csv('filtered_data_updated.csv', index=False)\n",
    "print(\"Filtered data updated and saved as 'filtered_data_updated.csv'.\")\n",
    "\n",
    "# Step 4: Create the final CSV format with adjusted coordinates\n",
    "def adjust_coordinates(lat, lon, max_offset=0.0001):\n",
    "    # Adjust the coordinates slightly (0-6 meters)\n",
    "    offset_lat = random.uniform(-max_offset, max_offset)\n",
    "    offset_lon = random.uniform(-max_offset, max_offset)\n",
    "    return lat + offset_lat, lon + offset_lon\n",
    "\n",
    "# Create the new data (without OSM IDs)\n",
    "final_data = []\n",
    "for i, row in first_400_data.iterrows():\n",
    "    house_number = row['HOUSE_NUMB'] if pd.notnull(row['HOUSE_NUMB']) else 'Unknown'\n",
    "    street_name = row['STREET_NAM'] if pd.notnull(row['STREET_NAM']) else 'Unknown'\n",
    "    lat, lon = adjust_coordinates(row['DISPLAY_LA'], row['DISPLAY_LO'])\n",
    "    \n",
    "    final_data.append([house_number, street_name, lon, lat])\n",
    "\n",
    "# Convert the final data to a DataFrame\n",
    "final_df = pd.DataFrame(final_data, columns=['house_number', 'street_name', 'longitude', 'latitude'])\n",
    "\n",
    "# Step 5: Save the final dataframe to a CSV file\n",
    "final_df.to_csv('final_output.csv', index=False)\n",
    "\n",
    "print(\"CSV file with the required format has been saved as 'final_output.csv'.\")\n",
    "\n",
    "\n"
   ]
  },
  {
   "cell_type": "code",
   "execution_count": 22,
   "id": "ab14fe22",
   "metadata": {},
   "outputs": [
    {
     "name": "stdout",
     "output_type": "stream",
     "text": [
      "GeoJSON file saved as 'output_weighted_coordinates.geojson'.\n"
     ]
    },
    {
     "name": "stderr",
     "output_type": "stream",
     "text": [
      "/Users/ompatil/VSC/Python/.venv/lib/python3.13/site-packages/pyogrio/geopandas.py:710: UserWarning: 'crs' was not provided.  The output dataset will not have projection information defined and may not be usable in other systems.\n",
      "  write(\n"
     ]
    }
   ],
   "source": [
    "import pandas as pd\n",
    "import geopandas as gpd\n",
    "from shapely.geometry import Point\n",
    "\n",
    "# Function to convert CSV to GeoJSON\n",
    "def csv_to_geojson(csv_file, geojson_file, lat_column, lon_column):\n",
    "    # Load the CSV data\n",
    "    data = pd.read_csv(csv_file)\n",
    "\n",
    "    # Ensure the latitude and longitude columns exist\n",
    "    if lat_column not in data.columns or lon_column not in data.columns:\n",
    "        raise ValueError(f\"Columns '{lat_column}' or '{lon_column}' not found in the CSV file.\")\n",
    "\n",
    "    # Create a GeoDataFrame with POINT geometries using latitude and longitude\n",
    "    geometry = [Point(lon, lat) for lon, lat in zip(data[lon_column], data[lat_column])]\n",
    "    geo_data = gpd.GeoDataFrame(data, geometry=geometry)\n",
    "\n",
    "    # Save the GeoDataFrame to GeoJSON format\n",
    "    geo_data.to_file(geojson_file, driver=\"GeoJSON\")\n",
    "    print(f\"GeoJSON file saved as '{geojson_file}'.\")\n",
    "\n",
    "\n",
    "# # Convert filtered_data_updated.csv to GeoJSON\n",
    "# csv_to_geojson('filtered_data_updated.csv', 'dummy.geojson', 'DISPLAY_LA', 'DISPLAY_LO')\n",
    "# csv_to_geojson('cleaned_POIS_data.csv', 'cleaned.geojson', 'DISPLAY_LA', 'DISPLAY_LO')\n",
    "\n",
    "# # Convert final_output.csv to GeoJSON\n",
    "# csv_to_geojson('final_output.csv', 'OSMv2.geojson', 'latitude', 'longitude')\n",
    "\n",
    "csv_to_geojson('output_weighted_coordinates.csv', 'output_weighted_coordinates.geojson', 'weighted_latitude', 'weighted_longitude')\n"
   ]
  }
 ],
 "metadata": {
  "kernelspec": {
   "display_name": ".venv",
   "language": "python",
   "name": "python3"
  },
  "language_info": {
   "codemirror_mode": {
    "name": "ipython",
    "version": 3
   },
   "file_extension": ".py",
   "mimetype": "text/x-python",
   "name": "python",
   "nbconvert_exporter": "python",
   "pygments_lexer": "ipython3",
   "version": "3.13.3"
  }
 },
 "nbformat": 4,
 "nbformat_minor": 5
}
