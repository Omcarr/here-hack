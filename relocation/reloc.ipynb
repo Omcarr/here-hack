{
 "cells": [
  {
   "cell_type": "code",
   "execution_count": 11,
   "id": "99191a84",
   "metadata": {},
   "outputs": [
    {
     "name": "stderr",
     "output_type": "stream",
     "text": [
      "/var/folders/y1/4lqd5nbn40s5kll78htdr9480000gn/T/ipykernel_14271/358802258.py:7: DtypeWarning: Columns (10) have mixed types. Specify dtype option on import or set low_memory=False.\n",
      "  df_3 = pd.read_csv('cleaned_POIS_data.csv')   # Another CSV to match against\n"
     ]
    }
   ],
   "source": [
    "import pandas as pd\n",
    "import numpy as np\n",
    "\n",
    "# Load the CSVs into pandas dataframes\n",
    "df_1 = pd.read_csv('poi_nearest_streets_dummy_data.csv')  # First CSV with DISPLAY_LA, DISPLAY_LO\n",
    "df_2 = pd.read_csv('OSMv2.csv')  # Second CSV with longitude, latitude\n",
    "df_3 = pd.read_csv('cleaned_POIS_data.csv')   # Another CSV to match against\n"
   ]
  },
  {
   "cell_type": "code",
   "execution_count": 7,
   "id": "24d6ab8a",
   "metadata": {},
   "outputs": [
    {
     "name": "stdout",
     "output_type": "stream",
     "text": [
      "[False  True]\n"
     ]
    }
   ],
   "source": [
    "# Check the unique values in 'is_on_street' to understand its format\n",
    "print(df_1['is_on_street'].unique())\n"
   ]
  },
  {
   "cell_type": "code",
   "execution_count": 12,
   "id": "80052f13",
   "metadata": {},
   "outputs": [],
   "source": [
    "df_filtered = df_1[df_1['is_on_street'] == True].copy()\n",
    "\n",
    "# Normalize column names for join\n",
    "df_filtered['HOUSE_NUMB'] = df_filtered['HOUSE_NUMB'].astype(str).str.strip()\n",
    "df_filtered['STREET_NAM'] = df_filtered['STREET_NAM'].astype(str).str.strip()\n",
    "df_2['house_number'] = df_2['house_number'].astype(str).str.strip()\n",
    "df_2['street_name'] = df_2['street_name'].astype(str).str.strip()\n",
    "df_3['HOUSE_NUMB'] = df_3['HOUSE_NUMB'].astype(str).str.strip()\n",
    "df_3['STREET_NAM'] = df_3['STREET_NAM'].astype(str).str.strip()\n",
    "\n",
    "# Merge with OSMv2\n",
    "merged = df_filtered.merge(df_2, left_on=['HOUSE_NUMB', 'STREET_NAM'], right_on=['house_number', 'street_name'], how='inner')\n",
    "\n",
    "# Merge with cleaned_POIS_data\n",
    "merged = merged.merge(df_3[['HOUSE_NUMB', 'STREET_NAM', 'DISPLAY_LA', 'DISPLAY_LO']],\n",
    "                      on=['HOUSE_NUMB', 'STREET_NAM'], how='inner', suffixes=('', '_df3'))\n",
    "\n",
    "# Compute weighted coordinates\n",
    "merged['weighted_latitude'] = 0.35 * merged['latitude'] + 0.65 * merged['DISPLAY_LA']\n",
    "merged['weighted_longitude'] = 0.35 * merged['longitude'] + 0.65 * merged['DISPLAY_LO']\n",
    "\n",
    "# Save output\n",
    "output_df = merged[['HOUSE_NUMB', 'STREET_NAM', 'weighted_latitude', 'weighted_longitude']]\n",
    "output_df.to_csv('weighted_output_coordinates.csv', index=False)\n"
   ]
  },
  {
   "cell_type": "code",
   "execution_count": 14,
   "id": "c66cc038",
   "metadata": {},
   "outputs": [],
   "source": [
    "from rapidfuzz import fuzz\n",
    "import pandas as pd\n",
    "\n",
    "# Normalize function\n",
    "def normalize(df, house_col, street_col):\n",
    "    df[house_col] = df[house_col].astype(str).str.strip().str.lower()\n",
    "    df[street_col] = df[street_col].astype(str).str.strip().str.lower()\n",
    "    return df\n",
    "\n",
    "# Normalize all DataFrames\n",
    "df_filtered = df_1[df_1['is_on_street'] == True].copy()\n",
    "df_filtered = normalize(df_filtered, 'HOUSE_NUMB', 'STREET_NAM')\n",
    "df_2 = normalize(df_2, 'house_number', 'street_name')\n",
    "df_3 = normalize(df_3, 'HOUSE_NUMB', 'STREET_NAM')\n",
    "\n",
    "# Manual fuzzy matching loop\n",
    "matches = []\n",
    "for _, row in df_filtered.iterrows():\n",
    "    best_score = 0\n",
    "    best_match_row = None\n",
    "\n",
    "    for _, cand_row in df_2.iterrows():\n",
    "        score_house = fuzz.ratio(row['HOUSE_NUMB'], cand_row['house_number'])\n",
    "        score_street = fuzz.ratio(row['STREET_NAM'], cand_row['street_name'])\n",
    "        total_score = 0.3 * score_house + 0.7 * score_street\n",
    "\n",
    "        if total_score > best_score:\n",
    "            best_score = total_score\n",
    "            best_match_row = cand_row\n",
    "\n",
    "    if best_score >= 85:  # threshold\n",
    "        combined = {**row.to_dict(), **best_match_row.to_dict()}\n",
    "        matches.append(combined)\n",
    "\n",
    "merged = pd.DataFrame(matches)\n",
    "\n",
    "# Merge with df_3 (exact)\n",
    "merged = merged.merge(df_3[['HOUSE_NUMB', 'STREET_NAM', 'DISPLAY_LA', 'DISPLAY_LO']],\n",
    "                      on=['HOUSE_NUMB', 'STREET_NAM'], how='inner', suffixes=('', '_df3'))\n",
    "\n",
    "# Weighted coordinates\n",
    "merged['weighted_latitude'] = 0.35 * merged['latitude'] + 0.65 * merged['DISPLAY_LA']\n",
    "merged['weighted_longitude'] = 0.35 * merged['longitude'] + 0.65 * merged['DISPLAY_LO']\n",
    "\n",
    "# Save\n",
    "output_df = merged[['HOUSE_NUMB', 'STREET_NAM', 'weighted_latitude', 'weighted_longitude']]\n",
    "output_df.to_csv('weighted_output_coordinates.csv', index=False)\n"
   ]
  }
 ],
 "metadata": {
  "kernelspec": {
   "display_name": ".venv",
   "language": "python",
   "name": "python3"
  },
  "language_info": {
   "codemirror_mode": {
    "name": "ipython",
    "version": 3
   },
   "file_extension": ".py",
   "mimetype": "text/x-python",
   "name": "python",
   "nbconvert_exporter": "python",
   "pygments_lexer": "ipython3",
   "version": "3.13.3"
  }
 },
 "nbformat": 4,
 "nbformat_minor": 5
}
